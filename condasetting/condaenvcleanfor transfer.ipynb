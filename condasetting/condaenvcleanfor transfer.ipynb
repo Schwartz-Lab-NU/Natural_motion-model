{
 "cells": [
  {
   "cell_type": "code",
   "execution_count": 3,
   "metadata": {},
   "outputs": [
    {
     "name": "stdout",
     "output_type": "stream",
     "text": [
      "Cleaned YAML file created: elephant_clean.yml\n"
     ]
    }
   ],
   "source": [
    "import yaml\n",
    "\n",
    "# List of substrings that indicate OS-specific packages\n",
    "os_specific = ['pywin32', 'vs2015_runtime', 'vc', 'winpty', 'm2-msys2']\n",
    "\n",
    "def clean_dependency(dep):\n",
    "    \"\"\"Remove build strings from a dependency string if present, and filter out OS-specific packages.\"\"\"\n",
    "    if not isinstance(dep, str):\n",
    "        return dep\n",
    "    # Skip OS-specific packages entirely\n",
    "    if any(os_key in dep for os_key in os_specific):\n",
    "        return None\n",
    "    # Remove build string if present (e.g., numpy=1.26.4=py312h4dde369_0 -> numpy=1.26.4)\n",
    "    parts = dep.split('=')\n",
    "    if len(parts) >= 3:\n",
    "        # Only keep the package name and version\n",
    "        return \"=\".join(parts[:2])\n",
    "    return dep\n",
    "\n",
    "# Load the original YAML file (SchwartzLab.yml)\n",
    "with open('elephant.yml', 'r') as f:\n",
    "    data = yaml.safe_load(f)\n",
    "\n",
    "# Process the dependencies list, if it exists\n",
    "if 'dependencies' in data and isinstance(data['dependencies'], list):\n",
    "    new_deps = []\n",
    "    for dep in data['dependencies']:\n",
    "        # Process only string dependencies (skip nested structures like pip lists)\n",
    "        if isinstance(dep, str):\n",
    "            cleaned = clean_dependency(dep)\n",
    "            if cleaned is not None:\n",
    "                new_deps.append(cleaned)\n",
    "        else:\n",
    "            # Keep nested dependency specs unchanged (e.g., pip section)\n",
    "            new_deps.append(dep)\n",
    "    data['dependencies'] = new_deps\n",
    "\n",
    "# Remove the prefix key if it exists\n",
    "data.pop('prefix', None)\n",
    "\n",
    "# Write out the cleaned YAML file as SchwartzLab_clean.yml\n",
    "with open('elephant_clean.yml', 'w') as f:\n",
    "    yaml.dump(data, f, default_flow_style=False)\n",
    "\n",
    "print(\"Cleaned YAML file created: elephant_clean.yml\")\n"
   ]
  }
 ],
 "metadata": {
  "kernelspec": {
   "display_name": "SchwartzLab",
   "language": "python",
   "name": "python3"
  },
  "language_info": {
   "codemirror_mode": {
    "name": "ipython",
    "version": 3
   },
   "file_extension": ".py",
   "mimetype": "text/x-python",
   "name": "python",
   "nbconvert_exporter": "python",
   "pygments_lexer": "ipython3",
   "version": "3.12.3"
  }
 },
 "nbformat": 4,
 "nbformat_minor": 2
}
